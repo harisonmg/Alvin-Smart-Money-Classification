{
 "cells": [
  {
   "cell_type": "markdown",
   "id": "fb267974",
   "metadata": {},
   "source": [
    "# Basic EDA"
   ]
  },
  {
   "cell_type": "code",
   "execution_count": null,
   "id": "453a5cb7",
   "metadata": {},
   "outputs": [],
   "source": [
    "from pathlib import Path\n",
    "\n",
    "import numpy as np\n",
    "import pandas as pd\n",
    "import matplotlib.pyplot as plt\n",
    "import seaborn as sns\n",
    "\n",
    "%matplotlib inline\n",
    "plt.rcParams[\"figure.figsize\"] = (14, 8)\n",
    "sns.set_theme(context=\"notebook\", style=\"whitegrid\")"
   ]
  },
  {
   "cell_type": "markdown",
   "id": "83c09620",
   "metadata": {},
   "source": [
    "## Config"
   ]
  },
  {
   "cell_type": "code",
   "execution_count": null,
   "id": "24686807",
   "metadata": {},
   "outputs": [],
   "source": [
    "# file paths\n",
    "DATA_DIR = Path(\"..\", \"input\")\n",
    "\n",
    "# data\n",
    "TRAIN_DATA = DATA_DIR / \"train.csv\"\n",
    "\n",
    "# columns in the data\n",
    "INDEX_COL = \"id\"\n",
    "\n",
    "TARGET_COL = \"target\"\n",
    "\n",
    "# random state\n",
    "RANDOM_STATE = 42"
   ]
  },
  {
   "cell_type": "markdown",
   "id": "043eac65",
   "metadata": {},
   "source": [
    "## Loading the data"
   ]
  },
  {
   "cell_type": "code",
   "execution_count": null,
   "id": "6ec36878",
   "metadata": {},
   "outputs": [],
   "source": [
    "df = pd.read_csv(TRAIN_DATA, index_col=INDEX_COL)\n",
    "df.info()"
   ]
  },
  {
   "cell_type": "markdown",
   "id": "340f2f87",
   "metadata": {},
   "source": [
    "## Pandas profiling report"
   ]
  },
  {
   "cell_type": "code",
   "execution_count": null,
   "id": "1485ee62",
   "metadata": {},
   "outputs": [],
   "source": [
    "from pandas_profiling import ProfileReport\n",
    "\n",
    "profile = ProfileReport(df)\n",
    "profile"
   ]
  },
  {
   "cell_type": "markdown",
   "id": "5821cf7e",
   "metadata": {},
   "source": [
    "## Separate features from target"
   ]
  },
  {
   "cell_type": "code",
   "execution_count": null,
   "id": "8cd546ce",
   "metadata": {},
   "outputs": [],
   "source": [
    "y = df[TARGET_COL]\n",
    "X = df.drop(TARGET_COL, axis=1)\n",
    "\n",
    "numeric_dtypes = [\"int64\", \"float64\"]\n",
    "categorical_df = X.select_dtypes(exclude=numeric_dtypes)\n",
    "numeric_df = X.select_dtypes(include=numeric_dtypes)"
   ]
  },
  {
   "cell_type": "markdown",
   "id": "52e6efa9",
   "metadata": {},
   "source": [
    "## Distribution of variables"
   ]
  },
  {
   "cell_type": "markdown",
   "id": "1ec173bd",
   "metadata": {},
   "source": [
    "### Target variable"
   ]
  },
  {
   "cell_type": "code",
   "execution_count": null,
   "id": "950db019",
   "metadata": {},
   "outputs": [],
   "source": [
    "fig, ax = plt.subplots()\n",
    "\n",
    "sns.countplot(y, ax=ax)\n",
    "ax.set_title(f\"Distribution of {TARGET_COL}\")\n",
    "plt.show()"
   ]
  },
  {
   "cell_type": "markdown",
   "id": "90e87e2d",
   "metadata": {},
   "source": [
    "### Numeric features"
   ]
  },
  {
   "cell_type": "code",
   "execution_count": null,
   "id": "2606f40c",
   "metadata": {},
   "outputs": [],
   "source": [
    "numeric_cols = numeric_df.columns.tolist()\n",
    "rows = np.ceil(len(numeric_cols) / 2).astype(int)\n",
    "fig, axes = plt.subplots(rows, 2, figsize=(14, 8 // 2 * rows))\n",
    "plt.tight_layout()\n",
    "\n",
    "for i, col in enumerate(numeric_cols):\n",
    "    ax = axes[i // 2, i % 2]\n",
    "    sns.histplot(data=df, x=col, ax=ax)\n",
    "    ax.set_title(f\"Histogram of {col}\", y=0.88)\n",
    "\n",
    "plt.show()"
   ]
  },
  {
   "cell_type": "markdown",
   "id": "c6863e32",
   "metadata": {},
   "source": [
    "### Numeric features by target"
   ]
  },
  {
   "cell_type": "code",
   "execution_count": null,
   "id": "4ec6252d",
   "metadata": {},
   "outputs": [],
   "source": [
    "fig, axes = plt.subplots(rows, 2, figsize=(14, 8 // 2 * rows))\n",
    "plt.tight_layout()\n",
    "\n",
    "for i, col in enumerate(numeric_cols):\n",
    "    ax = axes[i // 2, i % 2]\n",
    "    sns.histplot(data=df, x=col, hue=TARGET_COL, element=\"step\", ax=ax)\n",
    "    ax.set_title(f\"Histogram of {col} by {TARGET_COL}\", y=0.88)\n",
    "\n",
    "plt.show()"
   ]
  },
  {
   "cell_type": "markdown",
   "id": "7f92889d",
   "metadata": {},
   "source": [
    "### Categorical features"
   ]
  },
  {
   "cell_type": "code",
   "execution_count": null,
   "id": "17fbc61b",
   "metadata": {},
   "outputs": [],
   "source": [
    "for col in categorical_df.columns.tolist():\n",
    "    print(f\"Distribution of {col}\")\n",
    "    print(X[col].value_counts())\n",
    "    print()"
   ]
  },
  {
   "cell_type": "code",
   "execution_count": null,
   "id": "a67c55c1",
   "metadata": {},
   "outputs": [],
   "source": [
    "categorical_cols = categorical_df.columns.tolist()\n",
    "rows = np.ceil(len(categorical_cols) / 2).astype(int)\n",
    "fig, axes = plt.subplots(rows, 2, figsize=(14, 8 // 2 * rows))\n",
    "plt.tight_layout()\n",
    "\n",
    "for i, col in enumerate(categorical_cols):\n",
    "    ax = axes[i // 2, i % 2]\n",
    "    sns.countplot(data=X, x=col, ax=ax)\n",
    "    ax.set_title(f\"Count of {col} classes\", y=0.88)\n",
    "\n",
    "plt.show()"
   ]
  },
  {
   "cell_type": "markdown",
   "id": "f861149c",
   "metadata": {},
   "source": [
    "## Handling missing values"
   ]
  },
  {
   "cell_type": "code",
   "execution_count": null,
   "id": "e284dffb",
   "metadata": {},
   "outputs": [],
   "source": [
    "df.isna().sum()"
   ]
  },
  {
   "cell_type": "code",
   "execution_count": null,
   "id": "aef80440",
   "metadata": {},
   "outputs": [],
   "source": [
    "categorical_df = categorical_df.fillna(np.squeeze(categorical_df.mode()))\n",
    "numeric_df = numeric_df.fillna(numeric_df.mean())\n",
    "X = categorical_df.join(numeric_df)\n",
    "any(X.isna().sum() > 0)"
   ]
  },
  {
   "cell_type": "markdown",
   "id": "539ada6a",
   "metadata": {},
   "source": [
    "## Encoding categorical features"
   ]
  },
  {
   "cell_type": "code",
   "execution_count": null,
   "id": "fe438c58",
   "metadata": {},
   "outputs": [],
   "source": [
    "for col in categorical_df.columns:\n",
    "    X[col], _ = X[col].factorize()\n",
    "\n",
    "X[categorical_df.columns].info()"
   ]
  },
  {
   "cell_type": "markdown",
   "id": "92a7161b",
   "metadata": {},
   "source": [
    "## Mutual information"
   ]
  },
  {
   "cell_type": "code",
   "execution_count": null,
   "id": "b9d76dd0",
   "metadata": {},
   "outputs": [],
   "source": [
    "from sklearn.feature_selection import mutual_info_classif\n",
    "\n",
    "discrete_features = X.columns.isin(categorical_df.columns)\n",
    "mi_scores = mutual_info_classif(\n",
    "    X, y, discrete_features=discrete_features, random_state=RANDOM_STATE\n",
    ")\n",
    "\n",
    "mi_scores = pd.Series(mi_scores, name=\"MI Scores\", index=X.columns)\n",
    "mi_scores = mi_scores.sort_values(ascending=False)"
   ]
  },
  {
   "cell_type": "code",
   "execution_count": null,
   "id": "c00ae88e",
   "metadata": {},
   "outputs": [],
   "source": [
    "fig, ax = plt.subplots(figsize=(14, len(X.columns)//3))\n",
    "\n",
    "sns.barplot(x=mi_scores.values, y=mi_scores.index, ax=ax, color=\"tab:blue\")\n",
    "ax.set_title(\"Mutual information scores\")\n",
    "plt.show()"
   ]
  },
  {
   "cell_type": "code",
   "execution_count": null,
   "id": "9a8a5c2d",
   "metadata": {},
   "outputs": [],
   "source": []
  }
 ],
 "metadata": {
  "kernelspec": {
   "display_name": "Python 3 (ipykernel)",
   "language": "python",
   "name": "python3"
  },
  "language_info": {
   "codemirror_mode": {
    "name": "ipython",
    "version": 3
   },
   "file_extension": ".py",
   "mimetype": "text/x-python",
   "name": "python",
   "nbconvert_exporter": "python",
   "pygments_lexer": "ipython3",
   "version": "3.10.5"
  }
 },
 "nbformat": 4,
 "nbformat_minor": 5
}
