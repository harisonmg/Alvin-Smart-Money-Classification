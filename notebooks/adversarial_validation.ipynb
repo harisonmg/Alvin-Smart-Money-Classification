{
 "cells": [
  {
   "cell_type": "markdown",
   "id": "d93cfb92",
   "metadata": {
    "papermill": {
     "duration": 0.013302,
     "end_time": "2022-07-19T22:47:13.240795",
     "exception": false,
     "start_time": "2022-07-19T22:47:13.227493",
     "status": "completed"
    },
    "tags": []
   },
   "source": [
    "# Adversarial Validation"
   ]
  },
  {
   "cell_type": "code",
   "execution_count": 1,
   "id": "3fc6583d",
   "metadata": {
    "execution": {
     "iopub.execute_input": "2022-07-19T22:47:13.279909Z",
     "iopub.status.busy": "2022-07-19T22:47:13.279148Z",
     "iopub.status.idle": "2022-07-19T22:47:14.287922Z",
     "shell.execute_reply": "2022-07-19T22:47:14.286707Z",
     "shell.execute_reply.started": "2022-07-19T22:43:03.312225Z"
    },
    "papermill": {
     "duration": 1.034439,
     "end_time": "2022-07-19T22:47:14.288112",
     "exception": false,
     "start_time": "2022-07-19T22:47:13.253673",
     "status": "completed"
    },
    "tags": []
   },
   "outputs": [],
   "source": [
    "from pathlib import Path\n",
    "\n",
    "import numpy as np\n",
    "import pandas as pd\n",
    "import matplotlib.pyplot as plt\n",
    "import seaborn as sns\n",
    "\n",
    "%matplotlib inline\n",
    "plt.rcParams[\"figure.figsize\"] = (14, 8)\n",
    "sns.set_theme(context=\"notebook\", style=\"whitegrid\")"
   ]
  },
  {
   "cell_type": "markdown",
   "id": "98d8fe84",
   "metadata": {
    "papermill": {
     "duration": 0.01496,
     "end_time": "2022-07-19T22:47:14.316264",
     "exception": false,
     "start_time": "2022-07-19T22:47:14.301304",
     "status": "completed"
    },
    "tags": []
   },
   "source": [
    "## Config"
   ]
  },
  {
   "cell_type": "code",
   "execution_count": 2,
   "id": "0cd5c474",
   "metadata": {
    "execution": {
     "iopub.execute_input": "2022-07-19T22:47:14.351019Z",
     "iopub.status.busy": "2022-07-19T22:47:14.349990Z",
     "iopub.status.idle": "2022-07-19T22:47:14.353658Z",
     "shell.execute_reply": "2022-07-19T22:47:14.352558Z",
     "shell.execute_reply.started": "2022-07-19T22:43:03.753856Z"
    },
    "papermill": {
     "duration": 0.024724,
     "end_time": "2022-07-19T22:47:14.353874",
     "exception": false,
     "start_time": "2022-07-19T22:47:14.329150",
     "status": "completed"
    },
    "tags": []
   },
   "outputs": [],
   "source": [
    "# file paths\n",
    "DATA_DIR = Path(\"../input/alvin-smart-money-classification-challenge\")\n",
    "\n",
    "# data\n",
    "TRAIN_DATA = DATA_DIR / \"train.csv\"\n",
    "\n",
    "TEST_DATA = DATA_DIR / \"test.csv\"\n",
    "\n",
    "EXTRA_DATA = DATA_DIR / \"extra_data.csv\"\n",
    "\n",
    "# columns in the data\n",
    "INDEX_COL = \"Transaction_ID\"\n",
    "\n",
    "TARGET_COL = \"MERCHANT_CATEGORIZED_AS\"\n",
    "\n",
    "# random state\n",
    "RANDOM_STATE = 98765"
   ]
  },
  {
   "cell_type": "markdown",
   "id": "e4740236",
   "metadata": {
    "papermill": {
     "duration": 0.012031,
     "end_time": "2022-07-19T22:47:14.385840",
     "exception": false,
     "start_time": "2022-07-19T22:47:14.373809",
     "status": "completed"
    },
    "tags": []
   },
   "source": [
    "## Loading the data"
   ]
  },
  {
   "cell_type": "code",
   "execution_count": 3,
   "id": "dfc1e827",
   "metadata": {
    "execution": {
     "iopub.execute_input": "2022-07-19T22:47:14.416936Z",
     "iopub.status.busy": "2022-07-19T22:47:14.416331Z",
     "iopub.status.idle": "2022-07-19T22:47:14.468856Z",
     "shell.execute_reply": "2022-07-19T22:47:14.469295Z",
     "shell.execute_reply.started": "2022-07-19T22:43:03.761449Z"
    },
    "papermill": {
     "duration": 0.070324,
     "end_time": "2022-07-19T22:47:14.469476",
     "exception": false,
     "start_time": "2022-07-19T22:47:14.399152",
     "status": "completed"
    },
    "tags": []
   },
   "outputs": [
    {
     "name": "stdout",
     "output_type": "stream",
     "text": [
      "<class 'pandas.core.frame.DataFrame'>\n",
      "Index: 373 entries, ID_04mk78fa to ID_zztijwt3\n",
      "Data columns (total 11 columns):\n",
      " #   Column                                 Non-Null Count  Dtype              \n",
      "---  ------                                 --------------  -----              \n",
      " 0   MERCHANT_CATEGORIZED_AT                373 non-null    datetime64[ns, UTC]\n",
      " 1   MERCHANT_NAME                          373 non-null    object             \n",
      " 2   MERCHANT_CATEGORIZED_AS                373 non-null    object             \n",
      " 3   PURCHASE_VALUE                         373 non-null    int64              \n",
      " 4   PURCHASED_AT                           373 non-null    datetime64[ns, UTC]\n",
      " 5   IS_PURCHASE_PAID_VIA_MPESA_SEND_MONEY  373 non-null    bool               \n",
      " 6   USER_AGE                               61 non-null     float64            \n",
      " 7   USER_GENDER                            367 non-null    object             \n",
      " 8   USER_HOUSEHOLD                         373 non-null    int64              \n",
      " 9   USER_INCOME                            373 non-null    int64              \n",
      " 10  USER_ID                                373 non-null    object             \n",
      "dtypes: bool(1), datetime64[ns, UTC](2), float64(1), int64(3), object(4)\n",
      "memory usage: 32.4+ KB\n"
     ]
    }
   ],
   "source": [
    "dt_cols = [\"MERCHANT_CATEGORIZED_AT\", \"PURCHASED_AT\"]\n",
    "train_df = pd.read_csv(\n",
    "    TRAIN_DATA, index_col=INDEX_COL, parse_dates=dt_cols\n",
    ")\n",
    "train_df.info()"
   ]
  },
  {
   "cell_type": "code",
   "execution_count": 4,
   "id": "0345f512",
   "metadata": {
    "execution": {
     "iopub.execute_input": "2022-07-19T22:47:14.498803Z",
     "iopub.status.busy": "2022-07-19T22:47:14.498188Z",
     "iopub.status.idle": "2022-07-19T22:47:14.525657Z",
     "shell.execute_reply": "2022-07-19T22:47:14.526139Z",
     "shell.execute_reply.started": "2022-07-19T22:43:03.808620Z"
    },
    "papermill": {
     "duration": 0.043219,
     "end_time": "2022-07-19T22:47:14.526358",
     "exception": false,
     "start_time": "2022-07-19T22:47:14.483139",
     "status": "completed"
    },
    "tags": []
   },
   "outputs": [
    {
     "name": "stdout",
     "output_type": "stream",
     "text": [
      "<class 'pandas.core.frame.DataFrame'>\n",
      "Index: 558 entries, ID_00x9h2yx to ID_zz7zds1s\n",
      "Data columns (total 10 columns):\n",
      " #   Column                                 Non-Null Count  Dtype              \n",
      "---  ------                                 --------------  -----              \n",
      " 0   MERCHANT_CATEGORIZED_AT                558 non-null    datetime64[ns, UTC]\n",
      " 1   MERCHANT_NAME                          558 non-null    object             \n",
      " 2   PURCHASE_VALUE                         558 non-null    int64              \n",
      " 3   PURCHASED_AT                           558 non-null    datetime64[ns, UTC]\n",
      " 4   IS_PURCHASE_PAID_VIA_MPESA_SEND_MONEY  558 non-null    bool               \n",
      " 5   USER_AGE                               85 non-null     float64            \n",
      " 6   USER_GENDER                            553 non-null    object             \n",
      " 7   USER_HOUSEHOLD                         558 non-null    int64              \n",
      " 8   USER_INCOME                            558 non-null    int64              \n",
      " 9   USER_ID                                558 non-null    object             \n",
      "dtypes: bool(1), datetime64[ns, UTC](2), float64(1), int64(3), object(3)\n",
      "memory usage: 44.1+ KB\n"
     ]
    }
   ],
   "source": [
    "test_df = pd.read_csv(\n",
    "    TEST_DATA, index_col=INDEX_COL, parse_dates=dt_cols\n",
    ")\n",
    "test_df.info()"
   ]
  },
  {
   "cell_type": "code",
   "execution_count": 5,
   "id": "127be18b",
   "metadata": {
    "execution": {
     "iopub.execute_input": "2022-07-19T22:47:14.556891Z",
     "iopub.status.busy": "2022-07-19T22:47:14.556168Z",
     "iopub.status.idle": "2022-07-19T22:47:14.634947Z",
     "shell.execute_reply": "2022-07-19T22:47:14.635612Z",
     "shell.execute_reply.started": "2022-07-19T22:43:03.840295Z"
    },
    "papermill": {
     "duration": 0.095712,
     "end_time": "2022-07-19T22:47:14.635858",
     "exception": false,
     "start_time": "2022-07-19T22:47:14.540146",
     "status": "completed"
    },
    "tags": []
   },
   "outputs": [
    {
     "name": "stdout",
     "output_type": "stream",
     "text": [
      "<class 'pandas.core.frame.DataFrame'>\n",
      "Index: 10000 entries, ID_v13grrw3 to ID_cxhvhlnw\n",
      "Data columns (total 11 columns):\n",
      " #   Column                                 Non-Null Count  Dtype              \n",
      "---  ------                                 --------------  -----              \n",
      " 0   MERCHANT_CATEGORIZED_AT                0 non-null      datetime64[ns]     \n",
      " 1   MERCHANT_NAME                          10000 non-null  object             \n",
      " 2   MERCHANT_CATEGORIZED_AS                0 non-null      float64            \n",
      " 3   PURCHASE_VALUE                         10000 non-null  int64              \n",
      " 4   PURCHASED_AT                           10000 non-null  datetime64[ns, UTC]\n",
      " 5   IS_PURCHASE_PAID_VIA_MPESA_SEND_MONEY  10000 non-null  bool               \n",
      " 6   USER_AGE                               1158 non-null   float64            \n",
      " 7   USER_GENDER                            9966 non-null   object             \n",
      " 8   USER_HOUSEHOLD                         10000 non-null  int64              \n",
      " 9   USER_INCOME                            10000 non-null  int64              \n",
      " 10  USER_ID                                10000 non-null  object             \n",
      "dtypes: bool(1), datetime64[ns, UTC](1), datetime64[ns](1), float64(2), int64(3), object(3)\n",
      "memory usage: 869.1+ KB\n"
     ]
    }
   ],
   "source": [
    "extra_df = pd.read_csv(\n",
    "    EXTRA_DATA, index_col=INDEX_COL, parse_dates=dt_cols\n",
    ")\n",
    "extra_df.info()"
   ]
  },
  {
   "cell_type": "markdown",
   "id": "e932851f",
   "metadata": {
    "papermill": {
     "duration": 0.012874,
     "end_time": "2022-07-19T22:47:14.662892",
     "exception": false,
     "start_time": "2022-07-19T22:47:14.650018",
     "status": "completed"
    },
    "tags": []
   },
   "source": [
    "## Feature engineering"
   ]
  },
  {
   "cell_type": "code",
   "execution_count": 6,
   "id": "b4ce24ef",
   "metadata": {
    "execution": {
     "iopub.execute_input": "2022-07-19T22:47:14.692756Z",
     "iopub.status.busy": "2022-07-19T22:47:14.692136Z",
     "iopub.status.idle": "2022-07-19T22:47:14.703364Z",
     "shell.execute_reply": "2022-07-19T22:47:14.703847Z",
     "shell.execute_reply.started": "2022-07-19T22:43:03.928328Z"
    },
    "papermill": {
     "duration": 0.02771,
     "end_time": "2022-07-19T22:47:14.704031",
     "exception": false,
     "start_time": "2022-07-19T22:47:14.676321",
     "status": "completed"
    },
    "tags": []
   },
   "outputs": [],
   "source": [
    "# helper functions\n",
    "from string import punctuation\n",
    "\n",
    "def featurize_merch_name(series: pd.Series) -> pd.DataFrame:\n",
    "    \"\"\"Extract features from merchant names\"\"\"\n",
    "    df = pd.DataFrame()\n",
    "    # clean the merchant names\n",
    "    df[\"merch_name\"] = series.str.replace(f\"[{punctuation}]\", \"\").str\\\n",
    "        .replace(\"\\d+\", \"\", regex=True).str.replace(\" \\w \", \" \", regex=True)\n",
    "    \n",
    "    # obtain a list of tokens for each cell\n",
    "    merch_name_tokens = df[\"merch_name\"].str.split()\n",
    "    \n",
    "    # count the number of tokens\n",
    "    df[\"merch_name_count\"] = merch_name_tokens.str.len()\n",
    "    \n",
    "    # extract the last token in each cell\n",
    "    df[\"merch_last_name\"] = merch_name_tokens.str[-1]\n",
    "    \n",
    "    # obtain a dataframe with 1 token per cell\n",
    "    merch_name_df = df[\"merch_name\"].str.split(expand=True).drop(\n",
    "        [3,4,5], axis=1).add_prefix(\"merch_name_\")\n",
    "    return df.join(merch_name_df)\n",
    "\n",
    "\n",
    "def featurize_ts(series: pd.Series, col_prefix: str) -> pd.DataFrame:\n",
    "    \"\"\"Extract features from a timestamp column\"\"\"\n",
    "    df = pd.DataFrame()\n",
    "    df[f\"{col_prefix}_month\"] = series.dt.month\n",
    "    df[f\"{col_prefix}_day\"] = series.dt.day\n",
    "    df[f\"{col_prefix}_weekday\"] = series.dt.weekday\n",
    "    df[f\"{col_prefix}_hour\"] = series.dt.hour\n",
    "    return df\n",
    "\n",
    "def featurize(df: pd.DataFrame) -> pd.DataFrame:\n",
    "    \"\"\"Create new features\"\"\"\n",
    "    merch_df = featurize_merch_name(df[\"MERCHANT_NAME\"])\n",
    "    purchase_df = featurize_ts(df[\"PURCHASED_AT\"], \"purchase\")\n",
    "    cat_df = featurize_ts(df[\"MERCHANT_CATEGORIZED_AT\"], \"cat\")\n",
    "    df = df.join(merch_df)\n",
    "    df = df.join(purchase_df)\n",
    "    df = df.join(cat_df)\n",
    "    df[\"IS_PURCHASE_PAID_VIA_MPESA_SEND_MONEY\"] = df[\n",
    "        \"IS_PURCHASE_PAID_VIA_MPESA_SEND_MONEY\"].astype(int)\n",
    "    df[\"log_purchase\"] = df[\"PURCHASE_VALUE\"].apply(np.log)\n",
    "    df[\"log_income\"] = df[\"USER_INCOME\"].apply(np.log)\n",
    "    df[\"household_per_capita_income\"] = df[\"USER_INCOME\"] / df[\"USER_HOUSEHOLD\"]\n",
    "    cols_to_drop = [\"PURCHASED_AT\", \"MERCHANT_CATEGORIZED_AT\", \"USER_AGE\"]\n",
    "    return df.drop(cols_to_drop, axis=1)"
   ]
  },
  {
   "cell_type": "code",
   "execution_count": 7,
   "id": "be8b9866",
   "metadata": {
    "execution": {
     "iopub.execute_input": "2022-07-19T22:47:14.734335Z",
     "iopub.status.busy": "2022-07-19T22:47:14.733674Z",
     "iopub.status.idle": "2022-07-19T22:47:14.922948Z",
     "shell.execute_reply": "2022-07-19T22:47:14.922151Z",
     "shell.execute_reply.started": "2022-07-19T22:43:03.944886Z"
    },
    "papermill": {
     "duration": 0.205765,
     "end_time": "2022-07-19T22:47:14.923143",
     "exception": false,
     "start_time": "2022-07-19T22:47:14.717378",
     "status": "completed"
    },
    "tags": []
   },
   "outputs": [
    {
     "name": "stderr",
     "output_type": "stream",
     "text": [
      "/opt/conda/lib/python3.7/site-packages/ipykernel_launcher.py:8: FutureWarning: The default value of regex will change from True to False in a future version.\n",
      "  \n"
     ]
    }
   ],
   "source": [
    "train_feat_df = featurize(train_df)\n",
    "test_feat_df = featurize(test_df)\n",
    "extra_feat_df = featurize(extra_df)"
   ]
  },
  {
   "cell_type": "markdown",
   "id": "7046fc12",
   "metadata": {
    "papermill": {
     "duration": 0.013185,
     "end_time": "2022-07-19T22:47:14.950373",
     "exception": false,
     "start_time": "2022-07-19T22:47:14.937188",
     "status": "completed"
    },
    "tags": []
   },
   "source": [
    "## Encoding categorical features"
   ]
  },
  {
   "cell_type": "code",
   "execution_count": 8,
   "id": "10302e78",
   "metadata": {
    "execution": {
     "iopub.execute_input": "2022-07-19T22:47:14.984039Z",
     "iopub.status.busy": "2022-07-19T22:47:14.983328Z",
     "iopub.status.idle": "2022-07-19T22:47:14.986733Z",
     "shell.execute_reply": "2022-07-19T22:47:14.986252Z",
     "shell.execute_reply.started": "2022-07-19T22:43:04.178044Z"
    },
    "papermill": {
     "duration": 0.023164,
     "end_time": "2022-07-19T22:47:14.986887",
     "exception": false,
     "start_time": "2022-07-19T22:47:14.963723",
     "status": "completed"
    },
    "tags": []
   },
   "outputs": [],
   "source": [
    "def encode_categorical(df):\n",
    "    numeric_cols = [\n",
    "        \"PURCHASE_VALUE\", \"USER_INCOME\", \"log_purchase\",\n",
    "        \"log_income\", \"household_per_capita_income\"\n",
    "    ]\n",
    "    numeric_df = df[numeric_cols]\n",
    "    categorical_df = df[df.columns.difference(numeric_cols)]\n",
    "\n",
    "    # cast bool to int\n",
    "    bool_cols = df.select_dtypes(\"bool\")\n",
    "    df[bool_cols.columns] = bool_cols.astype(int)\n",
    "\n",
    "    # ordinal encode\n",
    "    categorical_cols = df.select_dtypes(exclude=[\"int64\", \"float64\"])\n",
    "    for col in categorical_cols:\n",
    "        df[col], _ = df[col].factorize()\n",
    "    return df"
   ]
  },
  {
   "cell_type": "markdown",
   "id": "f5c00c99",
   "metadata": {
    "papermill": {
     "duration": 0.013336,
     "end_time": "2022-07-19T22:47:15.013886",
     "exception": false,
     "start_time": "2022-07-19T22:47:15.000550",
     "status": "completed"
    },
    "tags": []
   },
   "source": [
    "## Train vs test"
   ]
  },
  {
   "cell_type": "code",
   "execution_count": 9,
   "id": "ccbf47a4",
   "metadata": {
    "execution": {
     "iopub.execute_input": "2022-07-19T22:47:15.050438Z",
     "iopub.status.busy": "2022-07-19T22:47:15.049738Z",
     "iopub.status.idle": "2022-07-19T22:47:15.076914Z",
     "shell.execute_reply": "2022-07-19T22:47:15.076414Z",
     "shell.execute_reply.started": "2022-07-19T22:43:04.185928Z"
    },
    "papermill": {
     "duration": 0.049669,
     "end_time": "2022-07-19T22:47:15.077061",
     "exception": false,
     "start_time": "2022-07-19T22:47:15.027392",
     "status": "completed"
    },
    "tags": []
   },
   "outputs": [
    {
     "data": {
      "text/plain": [
       "1    558\n",
       "0    373\n",
       "Name: is_test, dtype: int64"
      ]
     },
     "execution_count": 9,
     "metadata": {},
     "output_type": "execute_result"
    }
   ],
   "source": [
    "train_feat_df = train_feat_df.drop(TARGET_COL, axis=1)\n",
    "TARGET_COL = \"is_test\"\n",
    "train_feat_df[TARGET_COL] = 0\n",
    "test_feat_df[TARGET_COL] = 1\n",
    "df = pd.concat([train_feat_df, test_feat_df]).sample(frac=1)\n",
    "df = encode_categorical(df)\n",
    "df[TARGET_COL].value_counts()"
   ]
  },
  {
   "cell_type": "code",
   "execution_count": 10,
   "id": "65dfaa50",
   "metadata": {
    "execution": {
     "iopub.execute_input": "2022-07-19T22:47:15.110906Z",
     "iopub.status.busy": "2022-07-19T22:47:15.110313Z",
     "iopub.status.idle": "2022-07-19T22:47:16.967520Z",
     "shell.execute_reply": "2022-07-19T22:47:16.966601Z",
     "shell.execute_reply.started": "2022-07-19T22:43:04.224486Z"
    },
    "papermill": {
     "duration": 1.876813,
     "end_time": "2022-07-19T22:47:16.967705",
     "exception": false,
     "start_time": "2022-07-19T22:47:15.090892",
     "status": "completed"
    },
    "tags": []
   },
   "outputs": [
    {
     "data": {
      "text/html": [
       "<style type='text/css'>\n",
       ".datatable table.frame { margin-bottom: 0; }\n",
       ".datatable table.frame thead { border-bottom: none; }\n",
       ".datatable table.frame tr.coltypes td {  color: #FFFFFF;  line-height: 6px;  padding: 0 0.5em;}\n",
       ".datatable .bool    { background: #DDDD99; }\n",
       ".datatable .object  { background: #565656; }\n",
       ".datatable .int     { background: #5D9E5D; }\n",
       ".datatable .float   { background: #4040CC; }\n",
       ".datatable .str     { background: #CC4040; }\n",
       ".datatable .time    { background: #40CC40; }\n",
       ".datatable .row_index {  background: var(--jp-border-color3);  border-right: 1px solid var(--jp-border-color0);  color: var(--jp-ui-font-color3);  font-size: 9px;}\n",
       ".datatable .frame tbody td { text-align: left; }\n",
       ".datatable .frame tr.coltypes .row_index {  background: var(--jp-border-color0);}\n",
       ".datatable th:nth-child(2) { padding-left: 12px; }\n",
       ".datatable .hellipsis {  color: var(--jp-cell-editor-border-color);}\n",
       ".datatable .vellipsis {  background: var(--jp-layout-color0);  color: var(--jp-cell-editor-border-color);}\n",
       ".datatable .na {  color: var(--jp-cell-editor-border-color);  font-size: 80%;}\n",
       ".datatable .sp {  opacity: 0.25;}\n",
       ".datatable .footer { font-size: 9px; }\n",
       ".datatable .frame_dimensions {  background: var(--jp-border-color3);  border-top: 1px solid var(--jp-border-color0);  color: var(--jp-ui-font-color3);  display: inline-block;  opacity: 0.6;  padding: 1px 10px 1px 5px;}\n",
       "</style>\n"
      ],
      "text/plain": [
       "<IPython.core.display.HTML object>"
      ]
     },
     "metadata": {},
     "output_type": "display_data"
    },
    {
     "name": "stdout",
     "output_type": "stream",
     "text": [
      "AUC scores: [0.51720238 0.52551882 0.44184363 0.52540541 0.4757958 ]\n",
      "AUC mean:0.4971532067782067, std:0.033226653823257735\n"
     ]
    }
   ],
   "source": [
    "from lightgbm import LGBMClassifier\n",
    "from sklearn.model_selection import cross_val_score\n",
    "\n",
    "y = df[TARGET_COL]\n",
    "X = df.drop(TARGET_COL, axis=1)\n",
    "\n",
    "lgb = LGBMClassifier()\n",
    "cv_results = cross_val_score(lgb, X, y, scoring=\"roc_auc\")\n",
    "print(f\"AUC scores: {cv_results}\")\n",
    "print(\"AUC mean:{}, std:{}\".format(\n",
    "    np.mean(cv_results), np.std(cv_results)))"
   ]
  },
  {
   "cell_type": "markdown",
   "id": "6e360666",
   "metadata": {
    "papermill": {
     "duration": 0.013915,
     "end_time": "2022-07-19T22:47:16.997827",
     "exception": false,
     "start_time": "2022-07-19T22:47:16.983912",
     "status": "completed"
    },
    "tags": []
   },
   "source": [
    "## Train vs extra"
   ]
  },
  {
   "cell_type": "code",
   "execution_count": 11,
   "id": "d60c84e5",
   "metadata": {
    "execution": {
     "iopub.execute_input": "2022-07-19T22:47:17.030065Z",
     "iopub.status.busy": "2022-07-19T22:47:17.029168Z",
     "iopub.status.idle": "2022-07-19T22:47:17.093333Z",
     "shell.execute_reply": "2022-07-19T22:47:17.092732Z",
     "shell.execute_reply.started": "2022-07-19T22:43:05.570402Z"
    },
    "papermill": {
     "duration": 0.081223,
     "end_time": "2022-07-19T22:47:17.093481",
     "exception": false,
     "start_time": "2022-07-19T22:47:17.012258",
     "status": "completed"
    },
    "tags": []
   },
   "outputs": [
    {
     "data": {
      "text/plain": [
       "1    10000\n",
       "0      373\n",
       "Name: is_extra, dtype: int64"
      ]
     },
     "execution_count": 11,
     "metadata": {},
     "output_type": "execute_result"
    }
   ],
   "source": [
    "train_feat_df = train_feat_df.drop(TARGET_COL, axis=1)\n",
    "TARGET_COL = \"is_extra\"\n",
    "train_feat_df[TARGET_COL] = 0\n",
    "extra_feat_df[TARGET_COL] = 1\n",
    "df = pd.concat([train_feat_df, extra_feat_df]).sample(frac=1)\n",
    "df = encode_categorical(df)\n",
    "df[TARGET_COL].value_counts()"
   ]
  },
  {
   "cell_type": "code",
   "execution_count": 12,
   "id": "0635890d",
   "metadata": {
    "execution": {
     "iopub.execute_input": "2022-07-19T22:47:17.126524Z",
     "iopub.status.busy": "2022-07-19T22:47:17.125579Z",
     "iopub.status.idle": "2022-07-19T22:47:17.638172Z",
     "shell.execute_reply": "2022-07-19T22:47:17.638967Z",
     "shell.execute_reply.started": "2022-07-19T22:43:05.647763Z"
    },
    "papermill": {
     "duration": 0.53108,
     "end_time": "2022-07-19T22:47:17.639278",
     "exception": false,
     "start_time": "2022-07-19T22:47:17.108198",
     "status": "completed"
    },
    "tags": []
   },
   "outputs": [
    {
     "name": "stdout",
     "output_type": "stream",
     "text": [
      "AUC scores: [1. 1. 1. 1. 1.]\n",
      "AUC mean:1.0, std:4.965068306494546e-17\n"
     ]
    }
   ],
   "source": [
    "y = df[TARGET_COL]\n",
    "X = df.drop(TARGET_COL, axis=1)\n",
    "\n",
    "lgb = LGBMClassifier()\n",
    "cv_results = cross_val_score(lgb, X, y, scoring=\"roc_auc\")\n",
    "print(f\"AUC scores: {cv_results}\")\n",
    "print(\"AUC mean:{}, std:{}\".format(\n",
    "    np.mean(cv_results), np.std(cv_results)))"
   ]
  },
  {
   "cell_type": "code",
   "execution_count": 13,
   "id": "83d6aa41",
   "metadata": {
    "execution": {
     "iopub.execute_input": "2022-07-19T22:47:17.675444Z",
     "iopub.status.busy": "2022-07-19T22:47:17.674364Z",
     "iopub.status.idle": "2022-07-19T22:47:17.777725Z",
     "shell.execute_reply": "2022-07-19T22:47:17.778269Z",
     "shell.execute_reply.started": "2022-07-19T22:43:06.176334Z"
    },
    "papermill": {
     "duration": 0.123646,
     "end_time": "2022-07-19T22:47:17.778451",
     "exception": false,
     "start_time": "2022-07-19T22:47:17.654805",
     "status": "completed"
    },
    "tags": []
   },
   "outputs": [],
   "source": [
    "lgb.fit(X, y)\n",
    "fi = pd.Series(lgb.feature_importances_, lgb.feature_name_)"
   ]
  },
  {
   "cell_type": "code",
   "execution_count": 14,
   "id": "3182f1ce",
   "metadata": {
    "execution": {
     "iopub.execute_input": "2022-07-19T22:47:17.829377Z",
     "iopub.status.busy": "2022-07-19T22:47:17.828608Z",
     "iopub.status.idle": "2022-07-19T22:47:18.224660Z",
     "shell.execute_reply": "2022-07-19T22:47:18.224109Z",
     "shell.execute_reply.started": "2022-07-19T22:43:06.288189Z"
    },
    "papermill": {
     "duration": 0.431463,
     "end_time": "2022-07-19T22:47:18.224817",
     "exception": false,
     "start_time": "2022-07-19T22:47:17.793354",
     "status": "completed"
    },
    "tags": []
   },
   "outputs": [
    {
     "data": {
      "image/png": "[encoded data removed]",
      "text/plain": [
       "<Figure size 1008x576 with 1 Axes>"
      ]
     },
     "metadata": {},
     "output_type": "display_data"
    }
   ],
   "source": [
    "fig, ax = plt.subplots()\n",
    "\n",
    "sns.barplot(x=fi.values, y=fi.index, ax=ax, color=\"tab:blue\")\n",
    "ax.set_title(\"Feature importance\")\n",
    "plt.show()"
   ]
  },
  {
   "cell_type": "code",
   "execution_count": null,
   "id": "7df7fd66",
   "metadata": {
    "papermill": {
     "duration": 0.017415,
     "end_time": "2022-07-19T22:47:18.259215",
     "exception": false,
     "start_time": "2022-07-19T22:47:18.241800",
     "status": "completed"
    },
    "tags": []
   },
   "outputs": [],
   "source": []
  }
 ],
 "metadata": {
  "kernelspec": {
   "display_name": "Python 3",
   "language": "python",
   "name": "python3"
  },
  "language_info": {
   "codemirror_mode": {
    "name": "ipython",
    "version": 3
   },
   "file_extension": ".py",
   "mimetype": "text/x-python",
   "name": "python",
   "nbconvert_exporter": "python",
   "pygments_lexer": "ipython3",
   "version": "3.7.10"
  },
  "papermill": {
   "default_parameters": {},
   "duration": 13.673096,
   "end_time": "2022-07-19T22:47:19.086019",
   "environment_variables": {},
   "exception": null,
   "input_path": "__notebook__.ipynb",
   "output_path": "__notebook__.ipynb",
   "parameters": {},
   "start_time": "2022-07-19T22:47:05.412923",
   "version": "2.3.3"
  }
 },
 "nbformat": 4,
 "nbformat_minor": 5
}
