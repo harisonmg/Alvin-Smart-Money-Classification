{
 "cells": [
  {
   "cell_type": "markdown",
   "id": "fbbbc459",
   "metadata": {
    "papermill": {
     "duration": 0.00552,
     "end_time": "2022-07-22T22:41:47.073966",
     "exception": false,
     "start_time": "2022-07-22T22:41:47.068446",
     "status": "completed"
    },
    "tags": []
   },
   "source": [
    "# Adversarial Validation"
   ]
  },
  {
   "cell_type": "code",
   "execution_count": 1,
   "id": "c715bf3d",
   "metadata": {
    "execution": {
     "iopub.execute_input": "2022-07-22T22:41:47.085350Z",
     "iopub.status.busy": "2022-07-22T22:41:47.084634Z",
     "iopub.status.idle": "2022-07-22T22:41:51.757271Z",
     "shell.execute_reply": "2022-07-22T22:41:51.756199Z"
    },
    "papermill": {
     "duration": 4.68177,
     "end_time": "2022-07-22T22:41:51.760347",
     "exception": false,
     "start_time": "2022-07-22T22:41:47.078577",
     "status": "completed"
    },
    "tags": []
   },
   "outputs": [],
   "source": [
    "from pathlib import Path\n",
    "\n",
    "import numpy as np\n",
    "import pandas as pd\n",
    "import matplotlib.pyplot as plt\n",
    "import seaborn as sns\n",
    "import shap\n",
    "\n",
    "%matplotlib inline\n",
    "plt.rcParams[\"figure.figsize\"] = (14, 8)\n",
    "sns.set_theme(context=\"notebook\", style=\"whitegrid\")"
   ]
  },
  {
   "cell_type": "code",
   "execution_count": 2,
   "id": "8aa1641e",
   "metadata": {
    "execution": {
     "iopub.execute_input": "2022-07-22T22:41:51.772195Z",
     "iopub.status.busy": "2022-07-22T22:41:51.771328Z",
     "iopub.status.idle": "2022-07-22T22:42:04.821865Z",
     "shell.execute_reply": "2022-07-22T22:42:04.820696Z"
    },
    "papermill": {
     "duration": 13.059293,
     "end_time": "2022-07-22T22:42:04.824405",
     "exception": false,
     "start_time": "2022-07-22T22:41:51.765112",
     "status": "completed"
    },
    "tags": []
   },
   "outputs": [
    {
     "name": "stdout",
     "output_type": "stream",
     "text": [
      "\u001b[33mWARNING: Running pip as the 'root' user can result in broken permissions and conflicting behaviour with the system package manager. It is recommended to use a virtual environment instead: https://pip.pypa.io/warnings/venv\u001b[0m\u001b[33m\r\n",
      "\u001b[0m"
     ]
    }
   ],
   "source": [
    "# check whether scikit-lego and feature-engine are installed\n",
    "try:\n",
    "    import sklego, feature_engine\n",
    "except ImportError:\n",
    "    import sys\n",
    "\n",
    "    !{sys.executable} -m pip install scikit-lego feature-engine -q"
   ]
  },
  {
   "cell_type": "markdown",
   "id": "40f71a1a",
   "metadata": {
    "papermill": {
     "duration": 0.004645,
     "end_time": "2022-07-22T22:42:04.834067",
     "exception": false,
     "start_time": "2022-07-22T22:42:04.829422",
     "status": "completed"
    },
    "tags": []
   },
   "source": [
    "## Config"
   ]
  },
  {
   "cell_type": "code",
   "execution_count": 3,
   "id": "bafa3ba1",
   "metadata": {
    "execution": {
     "iopub.execute_input": "2022-07-22T22:42:04.845022Z",
     "iopub.status.busy": "2022-07-22T22:42:04.844618Z",
     "iopub.status.idle": "2022-07-22T22:42:04.850920Z",
     "shell.execute_reply": "2022-07-22T22:42:04.849859Z"
    },
    "papermill": {
     "duration": 0.014407,
     "end_time": "2022-07-22T22:42:04.852957",
     "exception": false,
     "start_time": "2022-07-22T22:42:04.838550",
     "status": "completed"
    },
    "tags": []
   },
   "outputs": [],
   "source": [
    "# file paths\n",
    "DATA_DIR = Path(\"../input/alvin-smart-money-classification-challenge\")\n",
    "\n",
    "# data\n",
    "TRAIN_DATA = DATA_DIR / \"train.csv\"\n",
    "\n",
    "TEST_DATA = DATA_DIR / \"test.csv\"\n",
    "\n",
    "EXTRA_DATA = DATA_DIR / \"extra_data.csv\"\n",
    "\n",
    "# columns in the data\n",
    "INDEX_COL = \"Transaction_ID\"\n",
    "\n",
    "TARGET_COL = \"MERCHANT_CATEGORIZED_AS\"\n",
    "\n",
    "# random state\n",
    "RANDOM_SEED = 98765"
   ]
  },
  {
   "cell_type": "markdown",
   "id": "adb787ec",
   "metadata": {
    "papermill": {
     "duration": 0.004332,
     "end_time": "2022-07-22T22:42:04.861858",
     "exception": false,
     "start_time": "2022-07-22T22:42:04.857526",
     "status": "completed"
    },
    "tags": []
   },
   "source": [
    "## Loading the data"
   ]
  },
  {
   "cell_type": "code",
   "execution_count": 4,
   "id": "8be17d1b",
   "metadata": {
    "execution": {
     "iopub.execute_input": "2022-07-22T22:42:04.872475Z",
     "iopub.status.busy": "2022-07-22T22:42:04.872075Z",
     "iopub.status.idle": "2022-07-22T22:42:04.924700Z",
     "shell.execute_reply": "2022-07-22T22:42:04.923591Z"
    },
    "papermill": {
     "duration": 0.06092,
     "end_time": "2022-07-22T22:42:04.927243",
     "exception": false,
     "start_time": "2022-07-22T22:42:04.866323",
     "status": "completed"
    },
    "tags": []
   },
   "outputs": [
    {
     "name": "stdout",
     "output_type": "stream",
     "text": [
      "<class 'pandas.core.frame.DataFrame'>\n",
      "Index: 373 entries, ID_04mk78fa to ID_zztijwt3\n",
      "Data columns (total 11 columns):\n",
      " #   Column                                 Non-Null Count  Dtype              \n",
      "---  ------                                 --------------  -----              \n",
      " 0   MERCHANT_CATEGORIZED_AT                373 non-null    datetime64[ns, UTC]\n",
      " 1   MERCHANT_NAME                          373 non-null    object             \n",
      " 2   MERCHANT_CATEGORIZED_AS                373 non-null    object             \n",
      " 3   PURCHASE_VALUE                         373 non-null    int64              \n",
      " 4   PURCHASED_AT                           373 non-null    datetime64[ns, UTC]\n",
      " 5   IS_PURCHASE_PAID_VIA_MPESA_SEND_MONEY  373 non-null    bool               \n",
      " 6   USER_AGE                               61 non-null     float64            \n",
      " 7   USER_GENDER                            367 non-null    object             \n",
      " 8   USER_HOUSEHOLD                         373 non-null    int64              \n",
      " 9   USER_INCOME                            373 non-null    int64              \n",
      " 10  USER_ID                                373 non-null    object             \n",
      "dtypes: bool(1), datetime64[ns, UTC](2), float64(1), int64(3), object(4)\n",
      "memory usage: 32.4+ KB\n"
     ]
    }
   ],
   "source": [
    "dt_cols = [\"MERCHANT_CATEGORIZED_AT\", \"PURCHASED_AT\"]\n",
    "train_df = pd.read_csv(\n",
    "    TRAIN_DATA, index_col=INDEX_COL, parse_dates=dt_cols\n",
    ")\n",
    "train_df.info()"
   ]
  },
  {
   "cell_type": "code",
   "execution_count": 5,
   "id": "33919707",
   "metadata": {
    "execution": {
     "iopub.execute_input": "2022-07-22T22:42:04.938452Z",
     "iopub.status.busy": "2022-07-22T22:42:04.938020Z",
     "iopub.status.idle": "2022-07-22T22:42:04.969650Z",
     "shell.execute_reply": "2022-07-22T22:42:04.968138Z"
    },
    "papermill": {
     "duration": 0.040208,
     "end_time": "2022-07-22T22:42:04.972198",
     "exception": false,
     "start_time": "2022-07-22T22:42:04.931990",
     "status": "completed"
    },
    "tags": []
   },
   "outputs": [
    {
     "name": "stdout",
     "output_type": "stream",
     "text": [
      "<class 'pandas.core.frame.DataFrame'>\n",
      "Index: 558 entries, ID_00x9h2yx to ID_zz7zds1s\n",
      "Data columns (total 10 columns):\n",
      " #   Column                                 Non-Null Count  Dtype              \n",
      "---  ------                                 --------------  -----              \n",
      " 0   MERCHANT_CATEGORIZED_AT                558 non-null    datetime64[ns, UTC]\n",
      " 1   MERCHANT_NAME                          558 non-null    object             \n",
      " 2   PURCHASE_VALUE                         558 non-null    int64              \n",
      " 3   PURCHASED_AT                           558 non-null    datetime64[ns, UTC]\n",
      " 4   IS_PURCHASE_PAID_VIA_MPESA_SEND_MONEY  558 non-null    bool               \n",
      " 5   USER_AGE                               85 non-null     float64            \n",
      " 6   USER_GENDER                            553 non-null    object             \n",
      " 7   USER_HOUSEHOLD                         558 non-null    int64              \n",
      " 8   USER_INCOME                            558 non-null    int64              \n",
      " 9   USER_ID                                558 non-null    object             \n",
      "dtypes: bool(1), datetime64[ns, UTC](2), float64(1), int64(3), object(3)\n",
      "memory usage: 44.1+ KB\n"
     ]
    }
   ],
   "source": [
    "test_df = pd.read_csv(\n",
    "    TEST_DATA, index_col=INDEX_COL, parse_dates=dt_cols\n",
    ")\n",
    "test_df.info()"
   ]
  },
  {
   "cell_type": "code",
   "execution_count": 6,
   "id": "9b23e984",
   "metadata": {
    "execution": {
     "iopub.execute_input": "2022-07-22T22:42:04.983061Z",
     "iopub.status.busy": "2022-07-22T22:42:04.982691Z",
     "iopub.status.idle": "2022-07-22T22:42:05.077836Z",
     "shell.execute_reply": "2022-07-22T22:42:05.076619Z"
    },
    "papermill": {
     "duration": 0.103656,
     "end_time": "2022-07-22T22:42:05.080601",
     "exception": false,
     "start_time": "2022-07-22T22:42:04.976945",
     "status": "completed"
    },
    "tags": []
   },
   "outputs": [
    {
     "name": "stdout",
     "output_type": "stream",
     "text": [
      "<class 'pandas.core.frame.DataFrame'>\n",
      "Index: 10000 entries, ID_v13grrw3 to ID_cxhvhlnw\n",
      "Data columns (total 11 columns):\n",
      " #   Column                                 Non-Null Count  Dtype              \n",
      "---  ------                                 --------------  -----              \n",
      " 0   MERCHANT_CATEGORIZED_AT                0 non-null      datetime64[ns]     \n",
      " 1   MERCHANT_NAME                          10000 non-null  object             \n",
      " 2   MERCHANT_CATEGORIZED_AS                0 non-null      float64            \n",
      " 3   PURCHASE_VALUE                         10000 non-null  int64              \n",
      " 4   PURCHASED_AT                           10000 non-null  datetime64[ns, UTC]\n",
      " 5   IS_PURCHASE_PAID_VIA_MPESA_SEND_MONEY  10000 non-null  bool               \n",
      " 6   USER_AGE                               1158 non-null   float64            \n",
      " 7   USER_GENDER                            9966 non-null   object             \n",
      " 8   USER_HOUSEHOLD                         10000 non-null  int64              \n",
      " 9   USER_INCOME                            10000 non-null  int64              \n",
      " 10  USER_ID                                10000 non-null  object             \n",
      "dtypes: bool(1), datetime64[ns, UTC](1), datetime64[ns](1), float64(2), int64(3), object(3)\n",
      "memory usage: 869.1+ KB\n"
     ]
    }
   ],
   "source": [
    "extra_df = pd.read_csv(\n",
    "    EXTRA_DATA, index_col=INDEX_COL, parse_dates=dt_cols\n",
    ")\n",
    "extra_df.info()"
   ]
  },
  {
   "cell_type": "markdown",
   "id": "fc8b9d55",
   "metadata": {
    "papermill": {
     "duration": 0.004484,
     "end_time": "2022-07-22T22:42:05.089882",
     "exception": false,
     "start_time": "2022-07-22T22:42:05.085398",
     "status": "completed"
    },
    "tags": []
   },
   "source": [
    "## Preprocessing"
   ]
  },
  {
   "cell_type": "code",
   "execution_count": 7,
   "id": "07d8ed12",
   "metadata": {
    "execution": {
     "iopub.execute_input": "2022-07-22T22:42:05.101365Z",
     "iopub.status.busy": "2022-07-22T22:42:05.100586Z",
     "iopub.status.idle": "2022-07-22T22:42:05.987812Z",
     "shell.execute_reply": "2022-07-22T22:42:05.986591Z"
    },
    "papermill": {
     "duration": 0.896079,
     "end_time": "2022-07-22T22:42:05.990664",
     "exception": false,
     "start_time": "2022-07-22T22:42:05.094585",
     "status": "completed"
    },
    "tags": []
   },
   "outputs": [
    {
     "data": {
      "text/html": [
       "<style type='text/css'>\n",
       ".datatable table.frame { margin-bottom: 0; }\n",
       ".datatable table.frame thead { border-bottom: none; }\n",
       ".datatable table.frame tr.coltypes td {  color: #FFFFFF;  line-height: 6px;  padding: 0 0.5em;}\n",
       ".datatable .bool    { background: #DDDD99; }\n",
       ".datatable .object  { background: #565656; }\n",
       ".datatable .int     { background: #5D9E5D; }\n",
       ".datatable .float   { background: #4040CC; }\n",
       ".datatable .str     { background: #CC4040; }\n",
       ".datatable .time    { background: #40CC40; }\n",
       ".datatable .row_index {  background: var(--jp-border-color3);  border-right: 1px solid var(--jp-border-color0);  color: var(--jp-ui-font-color3);  font-size: 9px;}\n",
       ".datatable .frame tbody td { text-align: left; }\n",
       ".datatable .frame tr.coltypes .row_index {  background: var(--jp-border-color0);}\n",
       ".datatable th:nth-child(2) { padding-left: 12px; }\n",
       ".datatable .hellipsis {  color: var(--jp-cell-editor-border-color);}\n",
       ".datatable .vellipsis {  background: var(--jp-layout-color0);  color: var(--jp-cell-editor-border-color);}\n",
       ".datatable .na {  color: var(--jp-cell-editor-border-color);  font-size: 80%;}\n",
       ".datatable .sp {  opacity: 0.25;}\n",
       ".datatable .footer { font-size: 9px; }\n",
       ".datatable .frame_dimensions {  background: var(--jp-border-color3);  border-top: 1px solid var(--jp-border-color0);  color: var(--jp-ui-font-color3);  display: inline-block;  opacity: 0.6;  padding: 1px 10px 1px 5px;}\n",
       "</style>\n"
      ],
      "text/plain": [
       "<IPython.core.display.HTML object>"
      ]
     },
     "metadata": {},
     "output_type": "display_data"
    }
   ],
   "source": [
    "from feature_engine.datetime import DatetimeFeatures\n",
    "from feature_engine.transformation import LogTransformer\n",
    "from sklearn.base import clone\n",
    "from sklearn.compose import ColumnTransformer\n",
    "from sklearn.feature_extraction.text import CountVectorizer\n",
    "from sklearn.impute import SimpleImputer\n",
    "from sklearn.model_selection import cross_val_score, train_test_split\n",
    "from sklearn.pipeline import Pipeline\n",
    "from sklearn.preprocessing import FunctionTransformer, OrdinalEncoder\n",
    "from sklego.preprocessing import IdentityTransformer\n",
    "from lightgbm import LGBMClassifier"
   ]
  },
  {
   "cell_type": "code",
   "execution_count": 8,
   "id": "edc5bbc5",
   "metadata": {
    "execution": {
     "iopub.execute_input": "2022-07-22T22:42:06.003915Z",
     "iopub.status.busy": "2022-07-22T22:42:06.002639Z",
     "iopub.status.idle": "2022-07-22T22:42:06.012648Z",
     "shell.execute_reply": "2022-07-22T22:42:06.011459Z"
    },
    "papermill": {
     "duration": 0.018929,
     "end_time": "2022-07-22T22:42:06.015029",
     "exception": false,
     "start_time": "2022-07-22T22:42:05.996100",
     "status": "completed"
    },
    "tags": []
   },
   "outputs": [],
   "source": [
    "ts_features = [\"month\", \"day_of_month\", \"day_of_week\", \"hour\"]\n",
    "untransformed_features = [\n",
    "    \"IS_PURCHASE_PAID_VIA_MPESA_SEND_MONEY\", \"USER_HOUSEHOLD\"\n",
    "]\n",
    "\n",
    "ordinal_enc = OrdinalEncoder(handle_unknown=\"use_encoded_value\", unknown_value=-999)\n",
    "constant_imputer = SimpleImputer(strategy=\"constant\", fill_value=-999)\n",
    "gender_pipe = Pipeline([\n",
    "    (\"encode\", ordinal_enc),\n",
    "    (\"impute\", constant_imputer)\n",
    "])\n",
    "\n",
    "col_trans = ColumnTransformer(\n",
    "    [\n",
    "        (\n",
    "            \"datetime\",\n",
    "            DatetimeFeatures(features_to_extract=ts_features),\n",
    "            [\"PURCHASED_AT\"]\n",
    "        ),\n",
    "        (\"log\", LogTransformer(), [\"PURCHASE_VALUE\",\"USER_INCOME\"]),\n",
    "        (\"encode\", ordinal_enc, [\"MERCHANT_NAME\", \"USER_ID\"]),\n",
    "        (\"gender\", gender_pipe, [\"USER_GENDER\"]),\n",
    "        (\"age\", constant_imputer, [\"USER_AGE\"]),\n",
    "        (\"identity\", IdentityTransformer(), untransformed_features),\n",
    "    ],\n",
    "    n_jobs=-1,\n",
    ")\n",
    "\n",
    "pipe = Pipeline([\n",
    "    (\"transformer\", col_trans),\n",
    "    (\"model\", LGBMClassifier(random_state=RANDOM_SEED))\n",
    "])"
   ]
  },
  {
   "cell_type": "code",
   "execution_count": 9,
   "id": "d183d05e",
   "metadata": {
    "execution": {
     "iopub.execute_input": "2022-07-22T22:42:06.028202Z",
     "iopub.status.busy": "2022-07-22T22:42:06.027510Z",
     "iopub.status.idle": "2022-07-22T22:42:06.125641Z",
     "shell.execute_reply": "2022-07-22T22:42:06.124403Z"
    },
    "papermill": {
     "duration": 0.107456,
     "end_time": "2022-07-22T22:42:06.128255",
     "exception": false,
     "start_time": "2022-07-22T22:42:06.020799",
     "status": "completed"
    },
    "tags": []
   },
   "outputs": [
    {
     "data": {
      "text/html": [
       "<style>#sk-e2a36203-6536-4c4a-90c0-18acc4f8729f {color: black;background-color: white;}#sk-e2a36203-6536-4c4a-90c0-18acc4f8729f pre{padding: 0;}#sk-e2a36203-6536-4c4a-90c0-18acc4f8729f div.sk-toggleable {background-color: white;}#sk-e2a36203-6536-4c4a-90c0-18acc4f8729f label.sk-toggleable__label {cursor: pointer;display: block;width: 100%;margin-bottom: 0;padding: 0.3em;box-sizing: border-box;text-align: center;}#sk-e2a36203-6536-4c4a-90c0-18acc4f8729f label.sk-toggleable__label-arrow:before {content: \"▸\";float: left;margin-right: 0.25em;color: #696969;}#sk-e2a36203-6536-4c4a-90c0-18acc4f8729f label.sk-toggleable__label-arrow:hover:before {color: black;}#sk-e2a36203-6536-4c4a-90c0-18acc4f8729f div.sk-estimator:hover label.sk-toggleable__label-arrow:before {color: black;}#sk-e2a36203-6536-4c4a-90c0-18acc4f8729f div.sk-toggleable__content {max-height: 0;max-width: 0;overflow: hidden;text-align: left;background-color: #f0f8ff;}#sk-e2a36203-6536-4c4a-90c0-18acc4f8729f div.sk-toggleable__content pre {margin: 0.2em;color: black;border-radius: 0.25em;background-color: #f0f8ff;}#sk-e2a36203-6536-4c4a-90c0-18acc4f8729f input.sk-toggleable__control:checked~div.sk-toggleable__content {max-height: 200px;max-width: 100%;overflow: auto;}#sk-e2a36203-6536-4c4a-90c0-18acc4f8729f input.sk-toggleable__control:checked~label.sk-toggleable__label-arrow:before {content: \"▾\";}#sk-e2a36203-6536-4c4a-90c0-18acc4f8729f div.sk-estimator input.sk-toggleable__control:checked~label.sk-toggleable__label {background-color: #d4ebff;}#sk-e2a36203-6536-4c4a-90c0-18acc4f8729f div.sk-label input.sk-toggleable__control:checked~label.sk-toggleable__label {background-color: #d4ebff;}#sk-e2a36203-6536-4c4a-90c0-18acc4f8729f input.sk-hidden--visually {border: 0;clip: rect(1px 1px 1px 1px);clip: rect(1px, 1px, 1px, 1px);height: 1px;margin: -1px;overflow: hidden;padding: 0;position: absolute;width: 1px;}#sk-e2a36203-6536-4c4a-90c0-18acc4f8729f div.sk-estimator {font-family: monospace;background-color: #f0f8ff;border: 1px dotted black;border-radius: 0.25em;box-sizing: border-box;margin-bottom: 0.5em;}#sk-e2a36203-6536-4c4a-90c0-18acc4f8729f div.sk-estimator:hover {background-color: #d4ebff;}#sk-e2a36203-6536-4c4a-90c0-18acc4f8729f div.sk-parallel-item::after {content: \"\";width: 100%;border-bottom: 1px solid gray;flex-grow: 1;}#sk-e2a36203-6536-4c4a-90c0-18acc4f8729f div.sk-label:hover label.sk-toggleable__label {background-color: #d4ebff;}#sk-e2a36203-6536-4c4a-90c0-18acc4f8729f div.sk-serial::before {content: \"\";position: absolute;border-left: 1px solid gray;box-sizing: border-box;top: 2em;bottom: 0;left: 50%;}#sk-e2a36203-6536-4c4a-90c0-18acc4f8729f div.sk-serial {display: flex;flex-direction: column;align-items: center;background-color: white;padding-right: 0.2em;padding-left: 0.2em;}#sk-e2a36203-6536-4c4a-90c0-18acc4f8729f div.sk-item {z-index: 1;}#sk-e2a36203-6536-4c4a-90c0-18acc4f8729f div.sk-parallel {display: flex;align-items: stretch;justify-content: center;background-color: white;}#sk-e2a36203-6536-4c4a-90c0-18acc4f8729f div.sk-parallel::before {content: \"\";position: absolute;border-left: 1px solid gray;box-sizing: border-box;top: 2em;bottom: 0;left: 50%;}#sk-e2a36203-6536-4c4a-90c0-18acc4f8729f div.sk-parallel-item {display: flex;flex-direction: column;position: relative;background-color: white;}#sk-e2a36203-6536-4c4a-90c0-18acc4f8729f div.sk-parallel-item:first-child::after {align-self: flex-end;width: 50%;}#sk-e2a36203-6536-4c4a-90c0-18acc4f8729f div.sk-parallel-item:last-child::after {align-self: flex-start;width: 50%;}#sk-e2a36203-6536-4c4a-90c0-18acc4f8729f div.sk-parallel-item:only-child::after {width: 0;}#sk-e2a36203-6536-4c4a-90c0-18acc4f8729f div.sk-dashed-wrapped {border: 1px dashed gray;margin: 0 0.4em 0.5em 0.4em;box-sizing: border-box;padding-bottom: 0.4em;background-color: white;position: relative;}#sk-e2a36203-6536-4c4a-90c0-18acc4f8729f div.sk-label label {font-family: monospace;font-weight: bold;background-color: white;display: inline-block;line-height: 1.2em;}#sk-e2a36203-6536-4c4a-90c0-18acc4f8729f div.sk-label-container {position: relative;z-index: 2;text-align: center;}#sk-e2a36203-6536-4c4a-90c0-18acc4f8729f div.sk-container {/* jupyter's `normalize.less` sets `[hidden] { display: none; }` but bootstrap.min.css set `[hidden] { display: none !important; }` so we also need the `!important` here to be able to override the default hidden behavior on the sphinx rendered scikit-learn.org. See: https://github.com/scikit-learn/scikit-learn/issues/21755 */display: inline-block !important;position: relative;}#sk-e2a36203-6536-4c4a-90c0-18acc4f8729f div.sk-text-repr-fallback {display: none;}</style><div id=\"sk-e2a36203-6536-4c4a-90c0-18acc4f8729f\" class=\"sk-top-container\"><div class=\"sk-text-repr-fallback\"><pre>Pipeline(steps=[(&#x27;transformer&#x27;,\n",
       "                 ColumnTransformer(n_jobs=-1,\n",
       "                                   transformers=[(&#x27;datetime&#x27;,\n",
       "                                                  DatetimeFeatures(features_to_extract=[&#x27;month&#x27;,\n",
       "                                                                                        &#x27;day_of_month&#x27;,\n",
       "                                                                                        &#x27;day_of_week&#x27;,\n",
       "                                                                                        &#x27;hour&#x27;]),\n",
       "                                                  [&#x27;PURCHASED_AT&#x27;]),\n",
       "                                                 (&#x27;log&#x27;, LogTransformer(),\n",
       "                                                  [&#x27;PURCHASE_VALUE&#x27;,\n",
       "                                                   &#x27;USER_INCOME&#x27;]),\n",
       "                                                 (&#x27;encode&#x27;,\n",
       "                                                  OrdinalEncoder(handle_unknown=&#x27;use_encoded_value&#x27;,\n",
       "                                                                 unknown_value=-999),\n",
       "                                                  [&#x27;MERCHANT_NAME&#x27;, &#x27;USER_ID...\n",
       "                                                                   OrdinalEncoder(handle_unknown=&#x27;use_encoded_value&#x27;,\n",
       "                                                                                  unknown_value=-999)),\n",
       "                                                                  (&#x27;impute&#x27;,\n",
       "                                                                   SimpleImputer(fill_value=-999,\n",
       "                                                                                 strategy=&#x27;constant&#x27;))]),\n",
       "                                                  [&#x27;USER_GENDER&#x27;]),\n",
       "                                                 (&#x27;age&#x27;,\n",
       "                                                  SimpleImputer(fill_value=-999,\n",
       "                                                                strategy=&#x27;constant&#x27;),\n",
       "                                                  [&#x27;USER_AGE&#x27;]),\n",
       "                                                 (&#x27;identity&#x27;,\n",
       "                                                  IdentityTransformer(),\n",
       "                                                  [&#x27;IS_PURCHASE_PAID_VIA_MPESA_SEND_MONEY&#x27;,\n",
       "                                                   &#x27;USER_HOUSEHOLD&#x27;])])),\n",
       "                (&#x27;model&#x27;, LGBMClassifier(random_state=98765))])</pre><b>Please rerun this cell to show the HTML repr or trust the notebook.</b></div><div class=\"sk-container\" hidden><div class=\"sk-item sk-dashed-wrapped\"><div class=\"sk-label-container\"><div class=\"sk-label sk-toggleable\"><input class=\"sk-toggleable__control sk-hidden--visually\" id=\"756f6cae-f3ea-4cfa-8efe-0d55d1155404\" type=\"checkbox\" ><label for=\"756f6cae-f3ea-4cfa-8efe-0d55d1155404\" class=\"sk-toggleable__label sk-toggleable__label-arrow\">Pipeline</label><div class=\"sk-toggleable__content\"><pre>Pipeline(steps=[(&#x27;transformer&#x27;,\n",
       "                 ColumnTransformer(n_jobs=-1,\n",
       "                                   transformers=[(&#x27;datetime&#x27;,\n",
       "                                                  DatetimeFeatures(features_to_extract=[&#x27;month&#x27;,\n",
       "                                                                                        &#x27;day_of_month&#x27;,\n",
       "                                                                                        &#x27;day_of_week&#x27;,\n",
       "                                                                                        &#x27;hour&#x27;]),\n",
       "                                                  [&#x27;PURCHASED_AT&#x27;]),\n",
       "                                                 (&#x27;log&#x27;, LogTransformer(),\n",
       "                                                  [&#x27;PURCHASE_VALUE&#x27;,\n",
       "                                                   &#x27;USER_INCOME&#x27;]),\n",
       "                                                 (&#x27;encode&#x27;,\n",
       "                                                  OrdinalEncoder(handle_unknown=&#x27;use_encoded_value&#x27;,\n",
       "                                                                 unknown_value=-999),\n",
       "                                                  [&#x27;MERCHANT_NAME&#x27;, &#x27;USER_ID...\n",
       "                                                                   OrdinalEncoder(handle_unknown=&#x27;use_encoded_value&#x27;,\n",
       "                                                                                  unknown_value=-999)),\n",
       "                                                                  (&#x27;impute&#x27;,\n",
       "                                                                   SimpleImputer(fill_value=-999,\n",
       "                                                                                 strategy=&#x27;constant&#x27;))]),\n",
       "                                                  [&#x27;USER_GENDER&#x27;]),\n",
       "                                                 (&#x27;age&#x27;,\n",
       "                                                  SimpleImputer(fill_value=-999,\n",
       "                                                                strategy=&#x27;constant&#x27;),\n",
       "                                                  [&#x27;USER_AGE&#x27;]),\n",
       "                                                 (&#x27;identity&#x27;,\n",
       "                                                  IdentityTransformer(),\n",
       "                                                  [&#x27;IS_PURCHASE_PAID_VIA_MPESA_SEND_MONEY&#x27;,\n",
       "                                                   &#x27;USER_HOUSEHOLD&#x27;])])),\n",
       "                (&#x27;model&#x27;, LGBMClassifier(random_state=98765))])</pre></div></div></div><div class=\"sk-serial\"><div class=\"sk-item sk-dashed-wrapped\"><div class=\"sk-label-container\"><div class=\"sk-label sk-toggleable\"><input class=\"sk-toggleable__control sk-hidden--visually\" id=\"cf684235-47ef-45a5-a620-87523eacd37c\" type=\"checkbox\" ><label for=\"cf684235-47ef-45a5-a620-87523eacd37c\" class=\"sk-toggleable__label sk-toggleable__label-arrow\">transformer: ColumnTransformer</label><div class=\"sk-toggleable__content\"><pre>ColumnTransformer(n_jobs=-1,\n",
       "                  transformers=[(&#x27;datetime&#x27;,\n",
       "                                 DatetimeFeatures(features_to_extract=[&#x27;month&#x27;,\n",
       "                                                                       &#x27;day_of_month&#x27;,\n",
       "                                                                       &#x27;day_of_week&#x27;,\n",
       "                                                                       &#x27;hour&#x27;]),\n",
       "                                 [&#x27;PURCHASED_AT&#x27;]),\n",
       "                                (&#x27;log&#x27;, LogTransformer(),\n",
       "                                 [&#x27;PURCHASE_VALUE&#x27;, &#x27;USER_INCOME&#x27;]),\n",
       "                                (&#x27;encode&#x27;,\n",
       "                                 OrdinalEncoder(handle_unknown=&#x27;use_encoded_value&#x27;,\n",
       "                                                unknown_value=-999),\n",
       "                                 [&#x27;MERCHANT_NAME&#x27;, &#x27;USER_ID&#x27;]),\n",
       "                                (&#x27;gender&#x27;,\n",
       "                                 Pipeline(steps=[(&#x27;encode&#x27;,\n",
       "                                                  OrdinalEncoder(handle_unknown=&#x27;use_encoded_value&#x27;,\n",
       "                                                                 unknown_value=-999)),\n",
       "                                                 (&#x27;impute&#x27;,\n",
       "                                                  SimpleImputer(fill_value=-999,\n",
       "                                                                strategy=&#x27;constant&#x27;))]),\n",
       "                                 [&#x27;USER_GENDER&#x27;]),\n",
       "                                (&#x27;age&#x27;,\n",
       "                                 SimpleImputer(fill_value=-999,\n",
       "                                               strategy=&#x27;constant&#x27;),\n",
       "                                 [&#x27;USER_AGE&#x27;]),\n",
       "                                (&#x27;identity&#x27;, IdentityTransformer(),\n",
       "                                 [&#x27;IS_PURCHASE_PAID_VIA_MPESA_SEND_MONEY&#x27;,\n",
       "                                  &#x27;USER_HOUSEHOLD&#x27;])])</pre></div></div></div><div class=\"sk-parallel\"><div class=\"sk-parallel-item\"><div class=\"sk-item\"><div class=\"sk-label-container\"><div class=\"sk-label sk-toggleable\"><input class=\"sk-toggleable__control sk-hidden--visually\" id=\"b1a059ba-232a-4280-ae9a-932b1c1e3011\" type=\"checkbox\" ><label for=\"b1a059ba-232a-4280-ae9a-932b1c1e3011\" class=\"sk-toggleable__label sk-toggleable__label-arrow\">datetime</label><div class=\"sk-toggleable__content\"><pre>[&#x27;PURCHASED_AT&#x27;]</pre></div></div></div><div class=\"sk-serial\"><div class=\"sk-item\"><div class=\"sk-estimator sk-toggleable\"><input class=\"sk-toggleable__control sk-hidden--visually\" id=\"84e2952f-03c7-4e66-a337-115d975c8d21\" type=\"checkbox\" ><label for=\"84e2952f-03c7-4e66-a337-115d975c8d21\" class=\"sk-toggleable__label sk-toggleable__label-arrow\">DatetimeFeatures</label><div class=\"sk-toggleable__content\"><pre>DatetimeFeatures(features_to_extract=[&#x27;month&#x27;, &#x27;day_of_month&#x27;, &#x27;day_of_week&#x27;,\n",
       "                                      &#x27;hour&#x27;])</pre></div></div></div></div></div></div><div class=\"sk-parallel-item\"><div class=\"sk-item\"><div class=\"sk-label-container\"><div class=\"sk-label sk-toggleable\"><input class=\"sk-toggleable__control sk-hidden--visually\" id=\"af1e0c65-7c3e-42c7-aa27-e411176b54e5\" type=\"checkbox\" ><label for=\"af1e0c65-7c3e-42c7-aa27-e411176b54e5\" class=\"sk-toggleable__label sk-toggleable__label-arrow\">log</label><div class=\"sk-toggleable__content\"><pre>[&#x27;PURCHASE_VALUE&#x27;, &#x27;USER_INCOME&#x27;]</pre></div></div></div><div class=\"sk-serial\"><div class=\"sk-item\"><div class=\"sk-estimator sk-toggleable\"><input class=\"sk-toggleable__control sk-hidden--visually\" id=\"4c6dc5a8-cff7-48c5-a5d8-3f4fd7e5419f\" type=\"checkbox\" ><label for=\"4c6dc5a8-cff7-48c5-a5d8-3f4fd7e5419f\" class=\"sk-toggleable__label sk-toggleable__label-arrow\">LogTransformer</label><div class=\"sk-toggleable__content\"><pre>LogTransformer()</pre></div></div></div></div></div></div><div class=\"sk-parallel-item\"><div class=\"sk-item\"><div class=\"sk-label-container\"><div class=\"sk-label sk-toggleable\"><input class=\"sk-toggleable__control sk-hidden--visually\" id=\"b3cce57a-afc2-4dd5-872a-883c1c3948fa\" type=\"checkbox\" ><label for=\"b3cce57a-afc2-4dd5-872a-883c1c3948fa\" class=\"sk-toggleable__label sk-toggleable__label-arrow\">encode</label><div class=\"sk-toggleable__content\"><pre>[&#x27;MERCHANT_NAME&#x27;, &#x27;USER_ID&#x27;]</pre></div></div></div><div class=\"sk-serial\"><div class=\"sk-item\"><div class=\"sk-estimator sk-toggleable\"><input class=\"sk-toggleable__control sk-hidden--visually\" id=\"25689ab8-86c9-4179-ab67-43806624d7ee\" type=\"checkbox\" ><label for=\"25689ab8-86c9-4179-ab67-43806624d7ee\" class=\"sk-toggleable__label sk-toggleable__label-arrow\">OrdinalEncoder</label><div class=\"sk-toggleable__content\"><pre>OrdinalEncoder(handle_unknown=&#x27;use_encoded_value&#x27;, unknown_value=-999)</pre></div></div></div></div></div></div><div class=\"sk-parallel-item\"><div class=\"sk-item\"><div class=\"sk-label-container\"><div class=\"sk-label sk-toggleable\"><input class=\"sk-toggleable__control sk-hidden--visually\" id=\"a0e0ca22-15cc-4b93-ab7c-46be504b05f4\" type=\"checkbox\" ><label for=\"a0e0ca22-15cc-4b93-ab7c-46be504b05f4\" class=\"sk-toggleable__label sk-toggleable__label-arrow\">gender</label><div class=\"sk-toggleable__content\"><pre>[&#x27;USER_GENDER&#x27;]</pre></div></div></div><div class=\"sk-serial\"><div class=\"sk-item\"><div class=\"sk-serial\"><div class=\"sk-item\"><div class=\"sk-estimator sk-toggleable\"><input class=\"sk-toggleable__control sk-hidden--visually\" id=\"9cfe9f72-32b8-45ec-b26b-e023bce757e5\" type=\"checkbox\" ><label for=\"9cfe9f72-32b8-45ec-b26b-e023bce757e5\" class=\"sk-toggleable__label sk-toggleable__label-arrow\">OrdinalEncoder</label><div class=\"sk-toggleable__content\"><pre>OrdinalEncoder(handle_unknown=&#x27;use_encoded_value&#x27;, unknown_value=-999)</pre></div></div></div><div class=\"sk-item\"><div class=\"sk-estimator sk-toggleable\"><input class=\"sk-toggleable__control sk-hidden--visually\" id=\"a49db3f8-f9a2-48e8-8fbc-55239a2dbb77\" type=\"checkbox\" ><label for=\"a49db3f8-f9a2-48e8-8fbc-55239a2dbb77\" class=\"sk-toggleable__label sk-toggleable__label-arrow\">SimpleImputer</label><div class=\"sk-toggleable__content\"><pre>SimpleImputer(fill_value=-999, strategy=&#x27;constant&#x27;)</pre></div></div></div></div></div></div></div></div><div class=\"sk-parallel-item\"><div class=\"sk-item\"><div class=\"sk-label-container\"><div class=\"sk-label sk-toggleable\"><input class=\"sk-toggleable__control sk-hidden--visually\" id=\"ad0b7bc1-2b02-4bc5-9a63-843d2c83686a\" type=\"checkbox\" ><label for=\"ad0b7bc1-2b02-4bc5-9a63-843d2c83686a\" class=\"sk-toggleable__label sk-toggleable__label-arrow\">age</label><div class=\"sk-toggleable__content\"><pre>[&#x27;USER_AGE&#x27;]</pre></div></div></div><div class=\"sk-serial\"><div class=\"sk-item\"><div class=\"sk-estimator sk-toggleable\"><input class=\"sk-toggleable__control sk-hidden--visually\" id=\"c6dcb193-2bc4-4192-9293-2b44f86fc0ec\" type=\"checkbox\" ><label for=\"c6dcb193-2bc4-4192-9293-2b44f86fc0ec\" class=\"sk-toggleable__label sk-toggleable__label-arrow\">SimpleImputer</label><div class=\"sk-toggleable__content\"><pre>SimpleImputer(fill_value=-999, strategy=&#x27;constant&#x27;)</pre></div></div></div></div></div></div><div class=\"sk-parallel-item\"><div class=\"sk-item\"><div class=\"sk-label-container\"><div class=\"sk-label sk-toggleable\"><input class=\"sk-toggleable__control sk-hidden--visually\" id=\"5e006dc2-b81d-4b16-b3c1-a0bc24e00b6b\" type=\"checkbox\" ><label for=\"5e006dc2-b81d-4b16-b3c1-a0bc24e00b6b\" class=\"sk-toggleable__label sk-toggleable__label-arrow\">identity</label><div class=\"sk-toggleable__content\"><pre>[&#x27;IS_PURCHASE_PAID_VIA_MPESA_SEND_MONEY&#x27;, &#x27;USER_HOUSEHOLD&#x27;]</pre></div></div></div><div class=\"sk-serial\"><div class=\"sk-item\"><div class=\"sk-estimator sk-toggleable\"><input class=\"sk-toggleable__control sk-hidden--visually\" id=\"7dfa6723-8fac-4150-8cf6-c263dbeccaa8\" type=\"checkbox\" ><label for=\"7dfa6723-8fac-4150-8cf6-c263dbeccaa8\" class=\"sk-toggleable__label sk-toggleable__label-arrow\">IdentityTransformer</label><div class=\"sk-toggleable__content\"><pre>IdentityTransformer()</pre></div></div></div></div></div></div></div></div><div class=\"sk-item\"><div class=\"sk-estimator sk-toggleable\"><input class=\"sk-toggleable__control sk-hidden--visually\" id=\"f7c737aa-df22-45ba-8c76-36ae9d3f328c\" type=\"checkbox\" ><label for=\"f7c737aa-df22-45ba-8c76-36ae9d3f328c\" class=\"sk-toggleable__label sk-toggleable__label-arrow\">LGBMClassifier</label><div class=\"sk-toggleable__content\"><pre>LGBMClassifier(random_state=98765)</pre></div></div></div></div></div></div></div>"
      ],
      "text/plain": [
       "Pipeline(steps=[('transformer',\n",
       "                 ColumnTransformer(n_jobs=-1,\n",
       "                                   transformers=[('datetime',\n",
       "                                                  DatetimeFeatures(features_to_extract=['month',\n",
       "                                                                                        'day_of_month',\n",
       "                                                                                        'day_of_week',\n",
       "                                                                                        'hour']),\n",
       "                                                  ['PURCHASED_AT']),\n",
       "                                                 ('log', LogTransformer(),\n",
       "                                                  ['PURCHASE_VALUE',\n",
       "                                                   'USER_INCOME']),\n",
       "                                                 ('encode',\n",
       "                                                  OrdinalEncoder(handle_unknown='use_encoded_value',\n",
       "                                                                 unknown_value=-999),\n",
       "                                                  ['MERCHANT_NAME', 'USER_ID...\n",
       "                                                                   OrdinalEncoder(handle_unknown='use_encoded_value',\n",
       "                                                                                  unknown_value=-999)),\n",
       "                                                                  ('impute',\n",
       "                                                                   SimpleImputer(fill_value=-999,\n",
       "                                                                                 strategy='constant'))]),\n",
       "                                                  ['USER_GENDER']),\n",
       "                                                 ('age',\n",
       "                                                  SimpleImputer(fill_value=-999,\n",
       "                                                                strategy='constant'),\n",
       "                                                  ['USER_AGE']),\n",
       "                                                 ('identity',\n",
       "                                                  IdentityTransformer(),\n",
       "                                                  ['IS_PURCHASE_PAID_VIA_MPESA_SEND_MONEY',\n",
       "                                                   'USER_HOUSEHOLD'])])),\n",
       "                ('model', LGBMClassifier(random_state=98765))])"
      ]
     },
     "execution_count": 9,
     "metadata": {},
     "output_type": "execute_result"
    }
   ],
   "source": [
    "from sklearn import set_config\n",
    "\n",
    "set_config(display=\"diagram\")\n",
    "pipe"
   ]
  },
  {
   "cell_type": "code",
   "execution_count": 10,
   "id": "5f97f8e1",
   "metadata": {
    "execution": {
     "iopub.execute_input": "2022-07-22T22:42:06.141886Z",
     "iopub.status.busy": "2022-07-22T22:42:06.141081Z",
     "iopub.status.idle": "2022-07-22T22:42:06.148748Z",
     "shell.execute_reply": "2022-07-22T22:42:06.147776Z"
    },
    "papermill": {
     "duration": 0.017307,
     "end_time": "2022-07-22T22:42:06.151189",
     "exception": false,
     "start_time": "2022-07-22T22:42:06.133882",
     "status": "completed"
    },
    "tags": []
   },
   "outputs": [],
   "source": [
    "# helper function\n",
    "def get_feature_names(pipe: Pipeline) -> list:\n",
    "    \"\"\"Get the feature names of the transformed matrix\"\"\"\n",
    "    col_trans = pipe.named_steps[\"transformer\"]\n",
    "    transformers = col_trans.named_transformers_\n",
    "    transformers.pop(\"remainder\")\n",
    "    feature_names = []\n",
    "    for name, transformer in transformers.items():\n",
    "        if isinstance(transformer, IdentityTransformer):\n",
    "            features = untransformed_features\n",
    "        else:\n",
    "            try:\n",
    "                features = transformer.get_feature_names_out()\n",
    "            except AttributeError:\n",
    "                features = transformer.feature_names_in_\n",
    "\n",
    "        # add the elements to the end of the list\n",
    "        feature_names.extend(features)\n",
    "    return feature_names"
   ]
  },
  {
   "cell_type": "markdown",
   "id": "bb5b8aa4",
   "metadata": {
    "papermill": {
     "duration": 0.005625,
     "end_time": "2022-07-22T22:42:06.163334",
     "exception": false,
     "start_time": "2022-07-22T22:42:06.157709",
     "status": "completed"
    },
    "tags": []
   },
   "source": [
    "## Train vs test"
   ]
  },
  {
   "cell_type": "code",
   "execution_count": 11,
   "id": "425c9d20",
   "metadata": {
    "execution": {
     "iopub.execute_input": "2022-07-22T22:42:06.178488Z",
     "iopub.status.busy": "2022-07-22T22:42:06.177672Z",
     "iopub.status.idle": "2022-07-22T22:42:06.187841Z",
     "shell.execute_reply": "2022-07-22T22:42:06.186692Z"
    },
    "papermill": {
     "duration": 0.02206,
     "end_time": "2022-07-22T22:42:06.191030",
     "exception": false,
     "start_time": "2022-07-22T22:42:06.168970",
     "status": "completed"
    },
    "tags": []
   },
   "outputs": [],
   "source": [
    "# utility functions\n",
    "def create_dataset(train, other, target_col=\"is_test\"):\n",
    "    try:\n",
    "        train = train.drop(TARGET_COL, axis=1)\n",
    "    except KeyError:\n",
    "        pass\n",
    "\n",
    "    train[target_col] = 0\n",
    "    other[target_col] = 1\n",
    "    df = pd.concat([train, other]).sample(\n",
    "        frac=1, random_state=RANDOM_SEED\n",
    "    )\n",
    "    print(df[target_col].value_counts())\n",
    "    \n",
    "    y = df[target_col]\n",
    "    X = df.drop(target_col, axis=1)\n",
    "    return X, y\n",
    "\n",
    "def explain_dataset(pipe, X, y):\n",
    "    X_train, X_val, y_train, y_val = train_test_split(\n",
    "        X, y, random_state=RANDOM_SEED\n",
    "    )\n",
    "    pipe.fit(X_train, y_train)\n",
    "    model = pipe.named_steps[\"model\"]\n",
    "    transformer = pipe.named_steps[\"transformer\"]\n",
    "    X_val_trans = transformer.transform(X_val)\n",
    "\n",
    "    explainer = shap.TreeExplainer(model)\n",
    "    shap_values = explainer.shap_values(X_val_trans)\n",
    "    \n",
    "    # beeswarm plot of SHAP values for the +ve class\n",
    "    shap.summary_plot(\n",
    "        shap_values[1],\n",
    "        features=X_val_trans,\n",
    "        feature_names=get_feature_names(pipe),\n",
    "        class_names=model.classes_,\n",
    "    )"
   ]
  },
  {
   "cell_type": "code",
   "execution_count": 12,
   "id": "425e1160",
   "metadata": {
    "execution": {
     "iopub.execute_input": "2022-07-22T22:42:06.204241Z",
     "iopub.status.busy": "2022-07-22T22:42:06.203820Z",
     "iopub.status.idle": "2022-07-22T22:42:08.595706Z",
     "shell.execute_reply": "2022-07-22T22:42:08.594465Z"
    },
    "papermill": {
     "duration": 2.401686,
     "end_time": "2022-07-22T22:42:08.598323",
     "exception": false,
     "start_time": "2022-07-22T22:42:06.196637",
     "status": "completed"
    },
    "tags": []
   },
   "outputs": [
    {
     "name": "stdout",
     "output_type": "stream",
     "text": [
      "1    558\n",
      "0    373\n",
      "Name: is_test, dtype: int64\n"
     ]
    },
    {
     "data": {
      "text/html": [
       "<div>\n",
       "<style scoped>\n",
       "    .dataframe tbody tr th:only-of-type {\n",
       "        vertical-align: middle;\n",
       "    }\n",
       "\n",
       "    .dataframe tbody tr th {\n",
       "        vertical-align: top;\n",
       "    }\n",
       "\n",
       "    .dataframe thead th {\n",
       "        text-align: right;\n",
       "    }\n",
       "</style>\n",
       "<table border=\"1\" class=\"dataframe\">\n",
       "  <thead>\n",
       "    <tr style=\"text-align: right;\">\n",
       "      <th></th>\n",
       "      <th>AUC</th>\n",
       "    </tr>\n",
       "  </thead>\n",
       "  <tbody>\n",
       "    <tr>\n",
       "      <th>mean</th>\n",
       "      <td>0.440121</td>\n",
       "    </tr>\n",
       "    <tr>\n",
       "      <th>std</th>\n",
       "      <td>0.022762</td>\n",
       "    </tr>\n",
       "  </tbody>\n",
       "</table>\n",
       "</div>"
      ],
      "text/plain": [
       "           AUC\n",
       "mean  0.440121\n",
       "std   0.022762"
      ]
     },
     "execution_count": 12,
     "metadata": {},
     "output_type": "execute_result"
    }
   ],
   "source": [
    "X, y = create_dataset(train_df, test_df)\n",
    "cv_results = cross_val_score(pipe, X, y, scoring=\"roc_auc\")\n",
    "cv_results = pd.DataFrame(cv_results, columns=[\"AUC\"])\n",
    "cv_results.describe().loc[[\"mean\", \"std\"]]"
   ]
  },
  {
   "cell_type": "code",
   "execution_count": 13,
   "id": "8395df35",
   "metadata": {
    "execution": {
     "iopub.execute_input": "2022-07-22T22:42:08.612613Z",
     "iopub.status.busy": "2022-07-22T22:42:08.611553Z",
     "iopub.status.idle": "2022-07-22T22:42:09.442143Z",
     "shell.execute_reply": "2022-07-22T22:42:09.440942Z"
    },
    "papermill": {
     "duration": 0.841422,
     "end_time": "2022-07-22T22:42:09.445469",
     "exception": false,
     "start_time": "2022-07-22T22:42:08.604047",
     "status": "completed"
    },
    "tags": []
   },
   "outputs": [
    {
     "name": "stderr",
     "output_type": "stream",
     "text": [
      "LightGBM binary classifier with TreeExplainer shap values output has changed to a list of ndarray\n"
     ]
    },
    {
     "data": {
      "image/png": "[encoded data removed]",
      "text/plain": [
       "<Figure size 576x453.6 with 2 Axes>"
      ]
     },
     "metadata": {},
     "output_type": "display_data"
    }
   ],
   "source": [
    "explain_dataset(pipe, X, y)"
   ]
  },
  {
   "cell_type": "markdown",
   "id": "af776291",
   "metadata": {
    "papermill": {
     "duration": 0.006633,
     "end_time": "2022-07-22T22:42:09.459921",
     "exception": false,
     "start_time": "2022-07-22T22:42:09.453288",
     "status": "completed"
    },
    "tags": []
   },
   "source": [
    "## Train vs extra"
   ]
  },
  {
   "cell_type": "code",
   "execution_count": 14,
   "id": "8d2c35fa",
   "metadata": {
    "execution": {
     "iopub.execute_input": "2022-07-22T22:42:09.475688Z",
     "iopub.status.busy": "2022-07-22T22:42:09.475321Z",
     "iopub.status.idle": "2022-07-22T22:42:10.958831Z",
     "shell.execute_reply": "2022-07-22T22:42:10.958007Z"
    },
    "papermill": {
     "duration": 1.494011,
     "end_time": "2022-07-22T22:42:10.961035",
     "exception": false,
     "start_time": "2022-07-22T22:42:09.467024",
     "status": "completed"
    },
    "tags": []
   },
   "outputs": [
    {
     "name": "stdout",
     "output_type": "stream",
     "text": [
      "1    10000\n",
      "0      373\n",
      "Name: is_extra, dtype: int64\n"
     ]
    },
    {
     "data": {
      "text/html": [
       "<div>\n",
       "<style scoped>\n",
       "    .dataframe tbody tr th:only-of-type {\n",
       "        vertical-align: middle;\n",
       "    }\n",
       "\n",
       "    .dataframe tbody tr th {\n",
       "        vertical-align: top;\n",
       "    }\n",
       "\n",
       "    .dataframe thead th {\n",
       "        text-align: right;\n",
       "    }\n",
       "</style>\n",
       "<table border=\"1\" class=\"dataframe\">\n",
       "  <thead>\n",
       "    <tr style=\"text-align: right;\">\n",
       "      <th></th>\n",
       "      <th>AUC</th>\n",
       "    </tr>\n",
       "  </thead>\n",
       "  <tbody>\n",
       "    <tr>\n",
       "      <th>mean</th>\n",
       "      <td>0.924438</td>\n",
       "    </tr>\n",
       "    <tr>\n",
       "      <th>std</th>\n",
       "      <td>0.013704</td>\n",
       "    </tr>\n",
       "  </tbody>\n",
       "</table>\n",
       "</div>"
      ],
      "text/plain": [
       "           AUC\n",
       "mean  0.924438\n",
       "std   0.013704"
      ]
     },
     "execution_count": 14,
     "metadata": {},
     "output_type": "execute_result"
    }
   ],
   "source": [
    "X, y = create_dataset(train_df, extra_df, target_col=\"is_extra\")\n",
    "cv_results = cross_val_score(pipe, X, y, scoring=\"roc_auc\")\n",
    "cv_results = pd.DataFrame(cv_results, columns=[\"AUC\"])\n",
    "cv_results.describe().loc[[\"mean\", \"std\"]]"
   ]
  },
  {
   "cell_type": "code",
   "execution_count": 15,
   "id": "44d86078",
   "metadata": {
    "execution": {
     "iopub.execute_input": "2022-07-22T22:42:10.977141Z",
     "iopub.status.busy": "2022-07-22T22:42:10.976756Z",
     "iopub.status.idle": "2022-07-22T22:42:13.304811Z",
     "shell.execute_reply": "2022-07-22T22:42:13.303411Z"
    },
    "papermill": {
     "duration": 2.339016,
     "end_time": "2022-07-22T22:42:13.307460",
     "exception": false,
     "start_time": "2022-07-22T22:42:10.968444",
     "status": "completed"
    },
    "tags": []
   },
   "outputs": [
    {
     "name": "stderr",
     "output_type": "stream",
     "text": [
      "LightGBM binary classifier with TreeExplainer shap values output has changed to a list of ndarray\n"
     ]
    },
    {
     "data": {
      "image/png": "[encoded data removed]",
      "text/plain": [
       "<Figure size 576x453.6 with 2 Axes>"
      ]
     },
     "metadata": {},
     "output_type": "display_data"
    }
   ],
   "source": [
    "explain_dataset(pipe, X, y)"
   ]
  },
  {
   "cell_type": "code",
   "execution_count": null,
   "id": "61f080ab",
   "metadata": {
    "papermill": {
     "duration": 0.008088,
     "end_time": "2022-07-22T22:42:13.324103",
     "exception": false,
     "start_time": "2022-07-22T22:42:13.316015",
     "status": "completed"
    },
    "tags": []
   },
   "outputs": [],
   "source": []
  }
 ],
 "metadata": {
  "kernelspec": {
   "display_name": "Python 3",
   "language": "python",
   "name": "python3"
  },
  "language_info": {
   "codemirror_mode": {
    "name": "ipython",
    "version": 3
   },
   "file_extension": ".py",
   "mimetype": "text/x-python",
   "name": "python",
   "nbconvert_exporter": "python",
   "pygments_lexer": "ipython3",
   "version": "3.7.12"
  },
  "papermill": {
   "default_parameters": {},
   "duration": 37.629869,
   "end_time": "2022-07-22T22:42:15.954099",
   "environment_variables": {},
   "exception": null,
   "input_path": "__notebook__.ipynb",
   "output_path": "__notebook__.ipynb",
   "parameters": {},
   "start_time": "2022-07-22T22:41:38.324230",
   "version": "2.3.4"
  }
 },
 "nbformat": 4,
 "nbformat_minor": 5
}
